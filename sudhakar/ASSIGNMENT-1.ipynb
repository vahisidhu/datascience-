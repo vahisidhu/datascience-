{
 "cells": [
  {
   "cell_type": "markdown",
   "id": "7fb20632",
   "metadata": {},
   "source": [
    "# DATA SCIENCE REGULAR EX ASSIGNMENT-1"
   ]
  },
  {
   "cell_type": "markdown",
   "id": "1c22532b",
   "metadata": {},
   "source": [
    "Write a Python program to replace all occurrences of a space, comma, or dot with a colon.\n",
    "Sample Text- 'Python Exercises, PHP exercises.'\n"
   ]
  },
  {
   "cell_type": "code",
   "execution_count": 1,
   "id": "f8420da4",
   "metadata": {},
   "outputs": [
    {
     "name": "stdout",
     "output_type": "stream",
     "text": [
      "Python:Exercises::PHP:exercises:\n"
     ]
    }
   ],
   "source": [
    "import re\n",
    "\n",
    "# Sample text\n",
    "sample_text = 'Python Exercises, PHP exercises.'\n",
    "\n",
    "# Replace space, comma, and dot with a colon\n",
    "result_text = re.sub(r'[ ,.]', ':', sample_text)\n",
    "\n",
    "print(result_text)"
   ]
  },
  {
   "cell_type": "markdown",
   "id": "258d3008",
   "metadata": {},
   "source": [
    "Create a dataframe using the dictionary below and remove everything (commas (,), !, XXXX, ;, etc.) from the columns except words.\n",
    "Dictionary- {'SUMMARY' : ['hello, world!', 'XXXXX test', '123four, five:; six...']}\n"
   ]
  },
  {
   "cell_type": "code",
   "execution_count": 44,
   "id": "182e74b1",
   "metadata": {},
   "outputs": [
    {
     "name": "stdout",
     "output_type": "stream",
     "text": [
      "             SUMMARY\n",
      "0       hello world \n",
      "1         XXXXX test\n",
      "2  123four five six \n"
     ]
    }
   ],
   "source": [
    "\n",
    "import pandas as pd\n",
    "import re\n",
    "\n",
    "# Dictionary\n",
    "data = {'SUMMARY': ['hello, world!', 'XXXXX test', '123four, five:; six...']}\n",
    "\n",
    "# Create dataframe\n",
    "df = pd.DataFrame(data)\n",
    "\n",
    "# Remove non-word characters\n",
    "df['SUMMARY'] = df['SUMMARY'].apply(lambda x: re.sub(r'\\W+', ' ', x))\n",
    "\n",
    "print(df)"
   ]
  },
  {
   "cell_type": "markdown",
   "id": "f859fcfd",
   "metadata": {},
   "source": [
    "Create a function in python to fi\n",
    "nd all words that are at least 4 characters long in a string. The use of the re.compile() method is mandatory."
   ]
  },
  {
   "cell_type": "code",
   "execution_count": 10,
   "id": "bec02015",
   "metadata": {},
   "outputs": [
    {
     "name": "stdout",
     "output_type": "stream",
     "text": [
      "['This', 'test', 'string', 'with', 'several', 'longwords', 'such', 'Python', 'exercise', 'compilation']\n"
     ]
    }
   ],
   "source": [
    "import re\n",
    "\n",
    "def find_long_words(text):\n",
    "    # Compile a regular expression pattern for words with at least 4 characters\n",
    "    pattern = re.compile(r'\\b\\w{4,}\\b')\n",
    "    \n",
    "    # Find all matches in the input text\n",
    "    long_words = pattern.findall(text)\n",
    "    \n",
    "    return long_words\n",
    "\n",
    "# Test the function\n",
    "sample_text = \"This is a test string with several longwords such as Python, exercise, and compilation.\"\n",
    "print(find_long_words(sample_text))"
   ]
  },
  {
   "cell_type": "markdown",
   "id": "93e4d2be",
   "metadata": {},
   "source": [
    "- Create a function in python to find all three, four, and five character words in a string. The use of the re.compile() method is mandatory."
   ]
  },
  {
   "cell_type": "code",
   "execution_count": 11,
   "id": "796eb2b3",
   "metadata": {},
   "outputs": [
    {
     "name": "stdout",
     "output_type": "stream",
     "text": [
      "['This', 'test', 'with', 'some', 'words']\n"
     ]
    }
   ],
   "source": [
    "import re\n",
    "\n",
    "def find_specific_length_words(text):\n",
    "    # Compile a regular expression pattern for words with 3, 4, or 5 characters\n",
    "    pattern = re.compile(r'\\b\\w{3,5}\\b')\n",
    "    \n",
    "    # Find all matches in the input text\n",
    "    specific_length_words = pattern.findall(text)\n",
    "    \n",
    "    return specific_length_words\n",
    "\n",
    "# Test the function\n",
    "sample_text = \"This is a test string with some words of various lengths.\"\n",
    "print(find_specific_length_words(sample_text))"
   ]
  },
  {
   "cell_type": "markdown",
   "id": "d9c7793b",
   "metadata": {},
   "source": [
    "\n",
    "- Create a function in Python to remove the parenthesis in a list of strings. The use of the re.compile() method is mandatory.\n",
    "Sample Text: [\"example (.com)\", \"hr@fliprobo (.com)\", \"github (.com)\", \"Hello (Data Science World)\", \"Data (Scientist)\"]\n"
   ]
  },
  {
   "cell_type": "code",
   "execution_count": 13,
   "id": "d0e0118f",
   "metadata": {},
   "outputs": [
    {
     "name": "stdout",
     "output_type": "stream",
     "text": [
      "['example', 'hr@fliprobo', 'github', 'Hello', 'Data']\n"
     ]
    }
   ],
   "source": [
    "import re\n",
    "\n",
    "def remove_parentheses(strings):\n",
    "    # Compile a regular expression pattern to match parentheses and their contents\n",
    "    pattern = re.compile(r'\\(.*?\\)')\n",
    "    \n",
    "    # Define a function to remove parentheses from a single string\n",
    "    def remove_parentheses_from_string(s):\n",
    "        return pattern.sub('', s).strip()\n",
    "    \n",
    "    # Apply the function to each string in the list\n",
    "    cleaned_strings = [remove_parentheses_from_string(s) for s in strings]\n",
    "    \n",
    "    return cleaned_strings\n",
    "\n",
    "# Sample text\n",
    "sample_text = [\"example (.com)\", \"hr@fliprobo (.com)\", \"github (.com)\", \"Hello (Data Science World)\", \"Data (Scientist)\"]\n",
    "\n",
    "# Test the function\n",
    "cleaned_text = remove_parentheses(sample_text)\n",
    "print(cleaned_text)"
   ]
  },
  {
   "cell_type": "markdown",
   "id": "d2d788e3",
   "metadata": {},
   "source": [
    "Write a python program to remove the parenthesis area from the text stored in the text file using Regular Expression.\n",
    "Sample Text: [\"example (.com)\", \"hr@fliprobo (.com)\", \"github (.com)\", \"Hello (Data Science World)\", \"Data (Scientist)\"]\n"
   ]
  },
  {
   "cell_type": "code",
   "execution_count": 16,
   "id": "c451ec1d",
   "metadata": {},
   "outputs": [
    {
     "name": "stdout",
     "output_type": "stream",
     "text": [
      "example \n",
      "hr@fliprobo \n",
      "github \n",
      "Hello \n",
      "Data \n"
     ]
    }
   ],
   "source": [
    "import re\n",
    "\n",
    "def remove_parentheses_from_file(input_file, output_file):\n",
    "    # Compile a regular expression pattern to match parentheses and their contents\n",
    "    pattern = re.compile(r'\\(.*?\\)')\n",
    "\n",
    "    # Read the content of the file\n",
    "    with open(input_file, 'r') as file:\n",
    "        content = file.read()\n",
    "    \n",
    "    # Remove parentheses and their contents\n",
    "    cleaned_content = pattern.sub('', content)\n",
    "\n",
    "    # Write the cleaned content back to the file or to a new file\n",
    "    with open(output_file, 'w') as file:\n",
    "        file.write(cleaned_content)\n",
    "\n",
    "# Sample text in a file (for demonstration purposes)\n",
    "sample_text = \"\"\"example (.com)\n",
    "hr@fliprobo (.com)\n",
    "github (.com)\n",
    "Hello (Data Science World)\n",
    "Data (Scientist)\"\"\"\n",
    "\n",
    "# Create a sample input file\n",
    "input_file = 'sample_text.txt'\n",
    "with open(input_file, 'w') as file:\n",
    "    file.write(sample_text)\n",
    "\n",
    "# Define the output file\n",
    "output_file = 'cleaned_text.txt'\n",
    "\n",
    "# Remove parentheses from the file content\n",
    "remove_parentheses_from_file(input_file, output_file)\n",
    "\n",
    "# Display the cleaned content\n",
    "with open(output_file, 'r') as file:\n",
    "    cleaned_content = file.read()\n",
    "    print(cleaned_content)"
   ]
  },
  {
   "cell_type": "markdown",
   "id": "b3324751",
   "metadata": {},
   "source": [
    "- Write a regular expression in Python to split a string into uppercase letters.\n",
    "Sample text: “ImportanceOfRegularExpressionsInPython”\n"
   ]
  },
  {
   "cell_type": "code",
   "execution_count": 17,
   "id": "7123614c",
   "metadata": {},
   "outputs": [
    {
     "name": "stdout",
     "output_type": "stream",
     "text": [
      "['Importance', 'Of', 'Regular', 'Expressions', 'In', 'Python']\n"
     ]
    }
   ],
   "source": [
    "import re\n",
    "\n",
    "def split_uppercase(text):\n",
    "    # Regular expression pattern to match positions before uppercase letters\n",
    "    pattern = re.compile(r'(?=[A-Z])')\n",
    "    \n",
    "    # Split the text using the pattern\n",
    "    split_text = pattern.split(text)\n",
    "    \n",
    "    # Remove any empty strings that may result from the split\n",
    "    split_text = [word for word in split_text if word]\n",
    "    \n",
    "    return split_text\n",
    "\n",
    "# Sample text\n",
    "sample_text = \"ImportanceOfRegularExpressionsInPython\"\n",
    "\n",
    "# Test the function\n",
    "split_result = split_uppercase(sample_text)\n",
    "print(split_result)"
   ]
  },
  {
   "cell_type": "markdown",
   "id": "f011804b",
   "metadata": {},
   "source": [
    "Create a function in python to insert spaces between words starting with numbers.\n",
    "Sample Text: “RegularExpression1IsAn2ImportantTopic3InPython\"\n"
   ]
  },
  {
   "cell_type": "code",
   "execution_count": 18,
   "id": "816688c7",
   "metadata": {},
   "outputs": [
    {
     "name": "stdout",
     "output_type": "stream",
     "text": [
      "RegularExpression1 IsAn2 ImportantTopic3 InPython\n"
     ]
    }
   ],
   "source": [
    "def insert_spaces_before_numbers(text):\n",
    "    # Regular expression pattern to match numbers followed by words\n",
    "    pattern = re.compile(r'(?<=\\d)(?=\\D)')\n",
    "    \n",
    "    # Insert space before numbers\n",
    "    spaced_text = pattern.sub(' ', text)\n",
    "    \n",
    "    return spaced_text\n",
    "\n",
    "# Sample text\n",
    "sample_text = \"RegularExpression1IsAn2ImportantTopic3InPython\"\n",
    "\n",
    "# Test the function\n",
    "result = insert_spaces_before_numbers(sample_text)\n",
    "print(result)"
   ]
  },
  {
   "cell_type": "markdown",
   "id": "719f4fcd",
   "metadata": {},
   "source": [
    "Create a function in python to insert spaces between words starting with capital letters or with numbers.\n",
    "Sample Text: “RegularExpression1IsAn2ImportantTopic3InPython\"\n"
   ]
  },
  {
   "cell_type": "code",
   "execution_count": 19,
   "id": "080c01f7",
   "metadata": {},
   "outputs": [
    {
     "name": "stdout",
     "output_type": "stream",
     "text": [
      "Regular Expression 1 Is An 2 Important Topic 3 In Python\n"
     ]
    }
   ],
   "source": [
    "import re\n",
    "\n",
    "def insert_spaces_before_caps_and_numbers(text):\n",
    "    # Regular expression pattern to match positions before capital letters or numbers\n",
    "    pattern = re.compile(r'(?<!^)(?=[A-Z0-9])')\n",
    "    \n",
    "    # Insert space before capital letters or numbers\n",
    "    spaced_text = pattern.sub(' ', text)\n",
    "    \n",
    "    return spaced_text\n",
    "\n",
    "# Sample text\n",
    "sample_text = \"RegularExpression1IsAn2ImportantTopic3InPython\"\n",
    "\n",
    "# Test the function\n",
    "result = insert_spaces_before_caps_and_numbers(sample_text)\n",
    "print(result)"
   ]
  },
  {
   "cell_type": "markdown",
   "id": "3cda8492",
   "metadata": {},
   "source": [
    "Use the github link below to read the data and create a dataframe. After creating the dataframe extract the first 6 letters of each country and store in the dataframe under a new column called first_five_letters.\n",
    "Github Link-  https://raw.githubusercontent.com/dsrscientist/DSData/master/happiness_score_dataset.csv\n",
    "\n"
   ]
  },
  {
   "cell_type": "code",
   "execution_count": 20,
   "id": "e04694b4",
   "metadata": {},
   "outputs": [
    {
     "name": "stdout",
     "output_type": "stream",
     "text": [
      "       Country          Region  Happiness Rank  Happiness Score  \\\n",
      "0  Switzerland  Western Europe               1            7.587   \n",
      "1      Iceland  Western Europe               2            7.561   \n",
      "2      Denmark  Western Europe               3            7.527   \n",
      "3       Norway  Western Europe               4            7.522   \n",
      "4       Canada   North America               5            7.427   \n",
      "\n",
      "   Standard Error  Economy (GDP per Capita)   Family  \\\n",
      "0         0.03411                   1.39651  1.34951   \n",
      "1         0.04884                   1.30232  1.40223   \n",
      "2         0.03328                   1.32548  1.36058   \n",
      "3         0.03880                   1.45900  1.33095   \n",
      "4         0.03553                   1.32629  1.32261   \n",
      "\n",
      "   Health (Life Expectancy)  Freedom  Trust (Government Corruption)  \\\n",
      "0                   0.94143  0.66557                        0.41978   \n",
      "1                   0.94784  0.62877                        0.14145   \n",
      "2                   0.87464  0.64938                        0.48357   \n",
      "3                   0.88521  0.66973                        0.36503   \n",
      "4                   0.90563  0.63297                        0.32957   \n",
      "\n",
      "   Generosity  Dystopia Residual first_five_letters  \n",
      "0     0.29678            2.51738             Switze  \n",
      "1     0.43630            2.70201             Icelan  \n",
      "2     0.34139            2.49204             Denmar  \n",
      "3     0.34699            2.46531             Norway  \n",
      "4     0.45811            2.45176             Canada  \n"
     ]
    }
   ],
   "source": [
    "import pandas as pd\n",
    "\n",
    "# Read the data from the GitHub link into a DataFrame\n",
    "url = \"https://raw.githubusercontent.com/dsrscientist/DSData/master/happiness_score_dataset.csv\"\n",
    "df = pd.read_csv(url)\n",
    "\n",
    "# Extract the first six letters of each country name and store them in a new column\n",
    "df['first_five_letters'] = df['Country'].str[:6]\n",
    "\n",
    "# Display the DataFrame\n",
    "print(df.head())"
   ]
  },
  {
   "cell_type": "markdown",
   "id": "c87493bf",
   "metadata": {},
   "source": [
    "- Write a Python program to match a string that contains only upper and lowercase letters, numbers, and underscores.\n",
    "\n"
   ]
  },
  {
   "cell_type": "code",
   "execution_count": 21,
   "id": "720aec1c",
   "metadata": {},
   "outputs": [
    {
     "name": "stdout",
     "output_type": "stream",
     "text": [
      "Hello123: True\n",
      "world: True\n",
      "Test_String: True\n",
      "123_abc_DEF: True\n",
      "Special@Char: False\n"
     ]
    }
   ],
   "source": [
    "import re\n",
    "\n",
    "def match_string(input_string):\n",
    "    # Regular expression pattern to match the desired string\n",
    "    pattern = re.compile(r'^[a-zA-Z0-9_]+$')\n",
    "    \n",
    "    # Check if the input string matches the pattern\n",
    "    if pattern.match(input_string):\n",
    "        return True\n",
    "    else:\n",
    "        return False\n",
    "\n",
    "# Test the function with sample strings\n",
    "sample_strings = [\"Hello123\", \"world\", \"Test_String\", \"123_abc_DEF\", \"Special@Char\"]\n",
    "\n",
    "for string in sample_strings:\n",
    "    print(f\"{string}: {match_string(string)}\")"
   ]
  },
  {
   "cell_type": "code",
   "execution_count": null,
   "id": "734ed89f",
   "metadata": {},
   "outputs": [],
   "source": [
    " Write a Python program where a string will start with a specific number. "
   ]
  },
  {
   "cell_type": "markdown",
   "id": "bb740f09",
   "metadata": {},
   "source": [
    "def starts_with_number(string, number):\n",
    "    # Convert the number to a string for comparison\n",
    "    number_str = str(number)\n",
    "    \n",
    "    # Check if the string starts with the specified number\n",
    "    if string.startswith(number_str):\n",
    "        return True\n",
    "    else:\n",
    "        return False\n",
    "\n",
    "# Test the function with sample strings and numbers\n",
    "sample_strings = [\"123abc\", \"456def\", \"789ghi\", \"hello123\"]\n",
    "specific_number = 123\n",
    "\n",
    "for string in sample_strings:\n",
    "    print(f\"{string}: {starts_with_number(string, specific_number)}\")"
   ]
  },
  {
   "cell_type": "markdown",
   "id": "1ebdc745",
   "metadata": {},
   "source": [
    "Write a Python program to remove leading zeros from an IP address"
   ]
  },
  {
   "cell_type": "code",
   "execution_count": 22,
   "id": "a8b51beb",
   "metadata": {},
   "outputs": [
    {
     "name": "stdout",
     "output_type": "stream",
     "text": [
      "Original IP address: 192.168.001.001\n",
      "Cleaned IP address: 192.168.1.1\n"
     ]
    }
   ],
   "source": [
    "def remove_leading_zeros(ip_address):\n",
    "    # Split the IP address into octets\n",
    "    octets = ip_address.split('.')\n",
    "    \n",
    "    # Remove leading zeros from each octet\n",
    "    cleaned_octets = [str(int(octet)) for octet in octets]\n",
    "    \n",
    "    # Join the cleaned octets to form the cleaned IP address\n",
    "    cleaned_ip_address = '.'.join(cleaned_octets)\n",
    "    \n",
    "    return cleaned_ip_address\n",
    "\n",
    "# Test the function with a sample IP address\n",
    "ip_address = \"192.168.001.001\"\n",
    "cleaned_ip_address = remove_leading_zeros(ip_address)\n",
    "print(\"Original IP address:\", ip_address)\n",
    "print(\"Cleaned IP address:\", cleaned_ip_address)\n"
   ]
  },
  {
   "cell_type": "markdown",
   "id": "613416ec",
   "metadata": {},
   "source": [
    "- Write a regular expression in python to match a date string in the form of Month name followed by day number and year stored in a text file.\n",
    "Sample text :  ' On August 15th 1947 that India was declared independent from British colonialism, and the reins of control were handed over to the leaders of the Country’.\n"
   ]
  },
  {
   "cell_type": "code",
   "execution_count": 23,
   "id": "291c7c00",
   "metadata": {},
   "outputs": [
    {
     "name": "stdout",
     "output_type": "stream",
     "text": [
      "['August 15th 1947']\n"
     ]
    }
   ],
   "source": [
    "import re\n",
    "\n",
    "def match_date_string(text):\n",
    "    # Regular expression pattern to match date string\n",
    "    pattern = re.compile(r'\\b(?:January|February|March|April|May|June|July|August|September|October|November|December)\\s+\\d{1,2}(?:st|nd|rd|th)?\\s+\\d{4}\\b')\n",
    "    \n",
    "    # Find all matches in the input text\n",
    "    matches = pattern.findall(text)\n",
    "    \n",
    "    return matches\n",
    "\n",
    "# Sample text\n",
    "sample_text = 'On August 15th 1947 that India was declared independent from British colonialism, and the reins of control were handed over to the leaders of the Country.'\n",
    "\n",
    "# Test the function\n",
    "date_matches = match_date_string(sample_text)\n",
    "print(date_matches)"
   ]
  },
  {
   "cell_type": "markdown",
   "id": "758ae92a",
   "metadata": {},
   "source": [
    "Write a Python program to search some literals strings in a string. \n",
    "Sample text : 'The quick brown fox jumps over the lazy dog.'\n",
    "Searched words : 'fox', 'dog', 'horse'\n"
   ]
  },
  {
   "cell_type": "code",
   "execution_count": 24,
   "id": "5d3114fc",
   "metadata": {},
   "outputs": [
    {
     "name": "stdout",
     "output_type": "stream",
     "text": [
      "Found words: ['fox', 'dog']\n"
     ]
    }
   ],
   "source": [
    "import re\n",
    "\n",
    "def search_strings(text, searched_words):\n",
    "    found_words = []\n",
    "    for word in searched_words:\n",
    "        if re.search(word, text):\n",
    "            found_words.append(word)\n",
    "    return found_words\n",
    "\n",
    "# Sample text\n",
    "sample_text = 'The quick brown fox jumps over the lazy dog.'\n",
    "\n",
    "# Searched words\n",
    "searched_words = ['fox', 'dog', 'horse']\n",
    "\n",
    "# Search for the words in the text\n",
    "found_words = search_strings(sample_text, searched_words)\n",
    "\n",
    "# Print the found words\n",
    "print(\"Found words:\", found_words)"
   ]
  },
  {
   "cell_type": "markdown",
   "id": "f9cbc566",
   "metadata": {},
   "source": [
    "Write a Python program to search a literals string in a string and also find the location within the original string where the pattern occurs\n",
    "Sample text : 'The quick brown fox jumps over the lazy dog.'\n",
    "Searched words : 'fox'\n"
   ]
  },
  {
   "cell_type": "code",
   "execution_count": 25,
   "id": "18cba83c",
   "metadata": {},
   "outputs": [
    {
     "name": "stdout",
     "output_type": "stream",
     "text": [
      "The word 'fox' is found in the text at position 16 to 18.\n"
     ]
    }
   ],
   "source": [
    "import re\n",
    "\n",
    "def search_string_with_location(text, searched_word):\n",
    "    # Search for the word in the text\n",
    "    match = re.search(searched_word, text)\n",
    "    \n",
    "    if match:\n",
    "        # If the word is found, return the match object and its start and end positions\n",
    "        return match.group(), match.start(), match.end()\n",
    "    else:\n",
    "        # If the word is not found, return None\n",
    "        return None\n",
    "\n",
    "# Sample text\n",
    "sample_text = 'The quick brown fox jumps over the lazy dog.'\n",
    "\n",
    "# Searched word\n",
    "searched_word = 'fox'\n",
    "\n",
    "# Search for the word in the text and find its location\n",
    "result = search_string_with_location(sample_text, searched_word)\n",
    "\n",
    "# Print the result\n",
    "if result:\n",
    "    found_word, start_pos, end_pos = result\n",
    "    print(f\"The word '{found_word}' is found in the text at position {start_pos} to {end_pos-1}.\")\n",
    "else:\n",
    "    print(\"The searched word is not found in the text.\")"
   ]
  },
  {
   "cell_type": "markdown",
   "id": "d33cd761",
   "metadata": {},
   "source": [
    "Write a Python program to find the substrings within a string.\n",
    "Sample text : 'Python exercises, PHP exercises, C# exercises'\n",
    "Pattern : 'exercises'.\n"
   ]
  },
  {
   "cell_type": "code",
   "execution_count": 26,
   "id": "005f72b6",
   "metadata": {},
   "outputs": [
    {
     "name": "stdout",
     "output_type": "stream",
     "text": [
      "Occurrences of the pattern:\n",
      "exercises\n",
      "exercises\n",
      "exercises\n"
     ]
    }
   ],
   "source": [
    "import re\n",
    "\n",
    "def find_substrings(text, pattern):\n",
    "    # Find all occurrences of the pattern in the text\n",
    "    matches = re.findall(pattern, text)\n",
    "    \n",
    "    return matches\n",
    "\n",
    "# Sample text\n",
    "sample_text = 'Python exercises, PHP exercises, C# exercises'\n",
    "\n",
    "# Pattern to search for\n",
    "pattern = 'exercises'\n",
    "\n",
    "# Find all occurrences of the pattern in the text\n",
    "occurrences = find_substrings(sample_text, pattern)\n",
    "\n",
    "# Print the occurrences\n",
    "print(\"Occurrences of the pattern:\")\n",
    "for occurrence in occurrences:\n",
    "    print(occurrence)"
   ]
  },
  {
   "cell_type": "markdown",
   "id": "749be512",
   "metadata": {},
   "source": [
    "Write a Python program to find the occurrence and position of the substrings within a string."
   ]
  },
  {
   "cell_type": "code",
   "execution_count": 27,
   "id": "198a5457",
   "metadata": {},
   "outputs": [
    {
     "name": "stdout",
     "output_type": "stream",
     "text": [
      "Occurrences and positions of the pattern:\n",
      "Occurrence: exercises, Position: 7\n",
      "Occurrence: exercises, Position: 22\n",
      "Occurrence: exercises, Position: 36\n"
     ]
    }
   ],
   "source": [
    "import re\n",
    "\n",
    "def find_occurrences_and_positions(text, pattern):\n",
    "    # Find all occurrences of the pattern in the text along with their positions\n",
    "    matches = [(match.group(), match.start()) for match in re.finditer(pattern, text)]\n",
    "    \n",
    "    return matches\n",
    "\n",
    "# Sample text\n",
    "sample_text = 'Python exercises, PHP exercises, C# exercises'\n",
    "\n",
    "# Pattern to search for\n",
    "pattern = 'exercises'\n",
    "\n",
    "# Find all occurrences and positions of the pattern in the text\n",
    "occurrences_and_positions = find_occurrences_and_positions(sample_text, pattern)\n",
    "\n",
    "# Print the occurrences and positions\n",
    "print(\"Occurrences and positions of the pattern:\")\n",
    "for occurrence, position in occurrences_and_positions:\n",
    "    print(f\"Occurrence: {occurrence}, Position: {position}\")"
   ]
  },
  {
   "cell_type": "markdown",
   "id": "4a657a2f",
   "metadata": {},
   "source": [
    "Write a Python program to convert a date of yyyy-mm-dd format to dd-mm-yyyy format.\n",
    "\n"
   ]
  },
  {
   "cell_type": "markdown",
   "id": "40b2ff26",
   "metadata": {},
   "source": [
    "from datetime import datetime\n",
    "\n",
    "def convert_date_format(date_string):\n",
    "    # Parse the date string into a datetime object\n",
    "    date_object = datetime.strptime(date_string, '%Y-%m-%d')\n",
    "    \n",
    "    # Format the datetime object to the desired format\n",
    "    formatted_date = date_object.strftime('%d-%m-%Y')\n",
    "    \n",
    "    return formatted_date\n",
    "\n",
    "# Input date string in yyyy-mm-dd format\n",
    "date_string = '2022-05-26'\n",
    "\n",
    "# Convert the date format\n",
    "formatted_date = convert_date_format(date_string)\n",
    "\n",
    "# Print the formatted date\n",
    "print(\"Formatted date:\", formatted_date)"
   ]
  },
  {
   "cell_type": "markdown",
   "id": "1bc7ff75",
   "metadata": {},
   "source": [
    "Create a function in python to find all decimal numbers with a precision of 1 or 2 in a string. The use of the re.compile() method is mandatory.\n",
    "Sample Text: \"01.12 0132.123 2.31875 145.8 3.01 27.25 0.25\"\n"
   ]
  },
  {
   "cell_type": "code",
   "execution_count": 29,
   "id": "40a52ac0",
   "metadata": {},
   "outputs": [
    {
     "name": "stdout",
     "output_type": "stream",
     "text": [
      "Decimal numbers with precision of 1 or 2: ['01.12', '145.8', '3.01', '27.25', '0.25']\n"
     ]
    }
   ],
   "source": [
    "import re\n",
    "\n",
    "def find_decimal_numbers(text):\n",
    "    # Compile a regular expression pattern to match decimal numbers with precision of 1 or 2\n",
    "    pattern = re.compile(r'\\b\\d+\\.\\d{1,2}\\b')\n",
    "    \n",
    "    # Find all matches in the input text\n",
    "    matches = pattern.findall(text)\n",
    "    \n",
    "    return matches\n",
    "\n",
    "# Sample text\n",
    "sample_text = \"01.12 0132.123 2.31875 145.8 3.01 27.25 0.25\"\n",
    "\n",
    "# Find all decimal numbers with precision of 1 or 2 in the text\n",
    "decimal_numbers = find_decimal_numbers(sample_text)\n",
    "\n",
    "# Print the decimal numbers found\n",
    "print(\"Decimal numbers with precision of 1 or 2:\", decimal_numbers)"
   ]
  },
  {
   "cell_type": "markdown",
   "id": "69d76929",
   "metadata": {},
   "source": [
    "Write a Python program to separate and print the numbers and their position of a given string."
   ]
  },
  {
   "cell_type": "code",
   "execution_count": 30,
   "id": "a4873b91",
   "metadata": {},
   "outputs": [
    {
     "name": "stdout",
     "output_type": "stream",
     "text": [
      "Numbers found: ['1', '2', '3', '4', '5', '6']\n",
      "Positions: [6, 7, 8, 16, 17, 18]\n"
     ]
    }
   ],
   "source": [
    "def separate_numbers_with_position(text):\n",
    "    numbers = []\n",
    "    positions = []\n",
    "    \n",
    "    for i, char in enumerate(text):\n",
    "        if char.isdigit():\n",
    "            numbers.append(char)\n",
    "            positions.append(i)\n",
    "    \n",
    "    return numbers, positions\n",
    "\n",
    "# Sample text\n",
    "sample_text = \"Hello 123 world 456\"\n",
    "\n",
    "# Separate numbers and their positions\n",
    "numbers, positions = separate_numbers_with_position(sample_text)\n",
    "\n",
    "# Print the numbers and their positions\n",
    "print(\"Numbers found:\", numbers)\n",
    "print(\"Positions:\", positions)"
   ]
  },
  {
   "cell_type": "markdown",
   "id": "291f7ad6",
   "metadata": {},
   "source": [
    "Write a regular expression in python program to extract maximum/largest numeric value from a string.\n",
    "Sample Text:  'My marks in each semester are: 947, 896, 926, 524, 734, 950, 642'\n"
   ]
  },
  {
   "cell_type": "code",
   "execution_count": 32,
   "id": "f1cecf15",
   "metadata": {},
   "outputs": [
    {
     "name": "stdout",
     "output_type": "stream",
     "text": [
      "Maximum numeric value: 950\n"
     ]
    }
   ],
   "source": [
    "def extract_maximum_numeric_value(text):\n",
    "    # Regular expression pattern to match numeric values\n",
    "    pattern = re.compile(r'\\b\\d+\\b')\n",
    "    \n",
    "    # Find all numeric values in the text\n",
    "    numeric_values = [int(match) for match in pattern.findall(text)]\n",
    "    \n",
    "    # Get the maximum numeric value\n",
    "    if numeric_values:\n",
    "        maximum_numeric_value = max(numeric_values)\n",
    "        return maximum_numeric_value\n",
    "    else:\n",
    "        return None\n",
    "\n",
    "# Sample text\n",
    "sample_text = 'My marks in each semester are: 947, 896, 926, 524, 734, 950, 642'\n",
    "\n",
    "# Extract the maximum numeric value\n",
    "maximum_numeric_value = extract_maximum_numeric_value(sample_text)\n",
    "\n",
    "# Print the maximum numeric value\n",
    "if maximum_numeric_value is not None:\n",
    "    print(\"Maximum numeric value:\", maximum_numeric_value)\n",
    "else:\n",
    "    print(\"No numeric value found in the text.\")"
   ]
  },
  {
   "cell_type": "markdown",
   "id": "fcb52ee4",
   "metadata": {},
   "source": [
    "Create a function in python to insert spaces between words starting with capital letters.\n",
    "Sample Text: “RegularExpressionIsAnImportantTopicInPython\"\n"
   ]
  },
  {
   "cell_type": "code",
   "execution_count": 33,
   "id": "4639b435",
   "metadata": {},
   "outputs": [
    {
     "name": "stdout",
     "output_type": "stream",
     "text": [
      "Spaced text: Regular Expression Is An Important Topic In Python\n"
     ]
    }
   ],
   "source": [
    "def insert_spaces_before_capital(text):\n",
    "    # Regular expression pattern to match the position before capital letters\n",
    "    pattern = re.compile(r'(?<!^)(?=[A-Z])')\n",
    "    \n",
    "    # Insert space before capital letters\n",
    "    spaced_text = pattern.sub(' ', text)\n",
    "    \n",
    "    return spaced_text\n",
    "\n",
    "# Sample text\n",
    "sample_text = \"RegularExpressionIsAnImportantTopicInPython\"\n",
    "\n",
    "# Insert spaces before words starting with capital letters\n",
    "spaced_text = insert_spaces_before_capital(sample_text)\n",
    "\n",
    "# Print the spaced text\n",
    "print(\"Spaced text:\", spaced_text)"
   ]
  },
  {
   "cell_type": "markdown",
   "id": "d91ba3d5",
   "metadata": {},
   "source": [
    "- Python regex to find sequences of one upper case letter followed by lower case letters"
   ]
  },
  {
   "cell_type": "code",
   "execution_count": 34,
   "id": "8f5b4b21",
   "metadata": {},
   "outputs": [
    {
     "name": "stdout",
     "output_type": "stream",
     "text": [
      "Sequences found: ['The', 'Quick', 'Brown', 'Fox', 'Jumps', 'Over', 'The', 'Lazy', 'Dog']\n"
     ]
    }
   ],
   "source": [
    "import re\n",
    "\n",
    "def find_uppercase_followed_by_lowercase(text):\n",
    "    # Regular expression pattern to match sequences of one uppercase letter followed by lowercase letters\n",
    "    pattern = re.compile(r'[A-Z][a-z]+')\n",
    "    \n",
    "    # Find all matches in the input text\n",
    "    matches = pattern.findall(text)\n",
    "    \n",
    "    return matches\n",
    "\n",
    "# Sample text\n",
    "sample_text = \"The Quick Brown Fox Jumps Over The Lazy Dog\"\n",
    "\n",
    "# Find sequences of one uppercase letter followed by lowercase letters\n",
    "sequences = find_uppercase_followed_by_lowercase(sample_text)\n",
    "\n",
    "# Print the sequences found\n",
    "print(\"Sequences found:\", sequences)"
   ]
  },
  {
   "cell_type": "markdown",
   "id": "416298e7",
   "metadata": {},
   "source": [
    "- Write a Python program to remove continuous duplicate words from Sentence using Regular Expression.\n",
    "Sample Text: \"Hello hello world world\"\n"
   ]
  },
  {
   "cell_type": "code",
   "execution_count": 35,
   "id": "7b160594",
   "metadata": {},
   "outputs": [
    {
     "name": "stdout",
     "output_type": "stream",
     "text": [
      "Cleaned text: Hello world\n"
     ]
    }
   ],
   "source": [
    "import re\n",
    "\n",
    "def remove_continuous_duplicates(sentence):\n",
    "    # Regular expression pattern to match continuous duplicate words\n",
    "    pattern = re.compile(r'\\b(\\w+)(\\s+\\1\\b)+', flags=re.IGNORECASE)\n",
    "    \n",
    "    # Remove continuous duplicate words from the sentence\n",
    "    cleaned_sentence = pattern.sub(r'\\1', sentence)\n",
    "    \n",
    "    return cleaned_sentence\n",
    "\n",
    "# Sample text\n",
    "sample_text = \"Hello hello world world\"\n",
    "\n",
    "# Remove continuous duplicate words from the sentence\n",
    "cleaned_text = remove_continuous_duplicates(sample_text)\n",
    "\n",
    "# Print the cleaned text\n",
    "print(\"Cleaned text:\", cleaned_text)"
   ]
  },
  {
   "cell_type": "markdown",
   "id": "94f9c677",
   "metadata": {},
   "source": [
    "Write a python program using RegEx to accept string ending with alphanumeric character."
   ]
  },
  {
   "cell_type": "code",
   "execution_count": 36,
   "id": "53443a22",
   "metadata": {},
   "outputs": [
    {
     "name": "stdout",
     "output_type": "stream",
     "text": [
      "hello123: True\n",
      "world$: False\n",
      "123abc: True\n",
      "test123!: False\n"
     ]
    }
   ],
   "source": [
    "import re\n",
    "\n",
    "def accept_string_ending_with_alphanumeric(text):\n",
    "    # Regular expression pattern to match strings ending with an alphanumeric character\n",
    "    pattern = re.compile(r'^.*[a-zA-Z0-9]$')\n",
    "    \n",
    "    # Check if the input text matches the pattern\n",
    "    if pattern.match(text):\n",
    "        return True\n",
    "    else:\n",
    "        return False\n",
    "\n",
    "# Test the function with sample strings\n",
    "sample_strings = [\"hello123\", \"world$\", \"123abc\", \"test123!\"]\n",
    "\n",
    "for string in sample_strings:\n",
    "    print(f\"{string}: {accept_string_ending_with_alphanumeric(string)}\")"
   ]
  },
  {
   "cell_type": "markdown",
   "id": "b74249ab",
   "metadata": {},
   "source": [
    "Write a python program using RegEx to extract the hashtags.\n",
    "Sample Text:  \"\"\"RT @kapil_kausik: #Doltiwal I mean #xyzabc is \"hurt\" by #Demonetization as the same has rendered USELESS <ed><U+00A0><U+00BD><ed><U+00B1><U+0089> \"acquired funds\" No wo\"\"\"\n"
   ]
  },
  {
   "cell_type": "code",
   "execution_count": 38,
   "id": "80b66d97",
   "metadata": {},
   "outputs": [
    {
     "name": "stdout",
     "output_type": "stream",
     "text": [
      "Extracted hashtags: ['#Doltiwal', '#xyzabc', '#Demonetization']\n"
     ]
    }
   ],
   "source": [
    "import re\n",
    "\n",
    "def extract_hashtags(text):\n",
    "    # Regular expression pattern to match hashtags\n",
    "    pattern = re.compile(r'#\\w+')\n",
    "    \n",
    "    # Find all matches in the input text\n",
    "    hashtags = pattern.findall(text)\n",
    "    \n",
    "    return hashtags\n",
    "\n",
    "# Sample text\n",
    "sample_text = \"\"\"RT @kapil_kausik: #Doltiwal I mean #xyzabc is \"hurt\" by #Demonetization as the same has rendered USELESS <ed><U+00A0><U+00BD><ed><U+00B1><U+0089> \"acquired funds\" No wo\"\"\"\n",
    "\n",
    "# Extract hashtags from the text\n",
    "hashtags = extract_hashtags(sample_text)\n",
    "\n",
    "# Print the extracted hashtags\n",
    "print(\"Extracted hashtags:\", hashtags)"
   ]
  },
  {
   "cell_type": "markdown",
   "id": "0c7af34f",
   "metadata": {},
   "source": [
    "Write a python program using RegEx to remove <U+..> like symbols\n",
    "Check the below sample text, there are strange symbols something of the sort <U+..> all over the place. You need to come up with a general Regex expression that will cover all such symbols.\n",
    "Sample Text: \"@Jags123456 Bharat band on 28??<ed><U+00A0><U+00BD><ed><U+00B8><U+0082>Those who  are protesting #demonetization  are all different party leaders\"\n"
   ]
  },
  {
   "cell_type": "markdown",
   "id": "b2503099",
   "metadata": {},
   "source": [
    "import re\n",
    "\n",
    "def remove_unicode_symbols(text):\n",
    "    # Regular expression pattern to match <U+..> like symbols\n",
    "    pattern = re.compile(r'<U\\+[0-9A-Fa-f]{4}>')\n",
    "    \n",
    "    # Remove <U+..> like symbols from the text\n",
    "    cleaned_text = pattern.sub('', text)\n",
    "    \n",
    "    return cleaned_text\n",
    "\n",
    "# Sample text\n",
    "sample_text = \"@Jags123456 Bharat band on 28??<ed><U+00A0><U+00BD><ed><U+00B8><U+0082>Those who  are protesting #demonetization  are all different party leaders\"\n",
    "\n",
    "# Remove <U+..> like symbols from the text\n",
    "cleaned_text = remove_unicode_symbols(sample_text)\n",
    "\n",
    "# Print the cleaned text\n",
    "print(\"Cleaned text:\", cleaned_text)"
   ]
  },
  {
   "cell_type": "code",
   "execution_count": null,
   "id": "9f6c24bf",
   "metadata": {},
   "outputs": [],
   "source": [
    "Write a python program to extract dates from the text stored in the text file.\n",
    "Sample Text: Ron was born on 12-09-1992 and he was admitted to school 15-12-1999\n"
   ]
  },
  {
   "cell_type": "code",
   "execution_count": 40,
   "id": "d542580e",
   "metadata": {},
   "outputs": [
    {
     "name": "stdout",
     "output_type": "stream",
     "text": [
      "Extracted dates: []\n"
     ]
    }
   ],
   "source": [
    "import re\n",
    "\n",
    "def extract_dates_from_text(file_path):\n",
    "    # Read the text from the file\n",
    "    with open(file_path, 'r') as file:\n",
    "        text = file.read()\n",
    "    \n",
    "    # Regular expression pattern to match dates in dd-mm-yyyy format\n",
    "    pattern = re.compile(r'\\b\\d{2}-\\d{2}-\\d{4}\\b')\n",
    "    \n",
    "    # Find all matches in the input text\n",
    "    dates = pattern.findall(text)\n",
    "    \n",
    "    return dates\n",
    "\n",
    "# File path to the text file\n",
    "file_path = 'sample_text.txt'\n",
    "\n",
    "# Extract dates from the text file\n",
    "dates = extract_dates_from_text(file_path)\n",
    "\n",
    "# Print the extracted dates\n",
    "print(\"Extracted dates:\", dates)"
   ]
  },
  {
   "cell_type": "markdown",
   "id": "a2796d62",
   "metadata": {},
   "source": [
    "Create a function in python to remove all words from a string of length between 2 and 4.\n",
    "The use of the re.compile() method is mandatory.\n",
    "Sample Text: \"The following example creates an ArrayList with a capacity of 50 elements. 4 elements are then added to the ArrayList and the ArrayList is trimmed accordingly.\"\n"
   ]
  },
  {
   "cell_type": "code",
   "execution_count": 41,
   "id": "de572ac3",
   "metadata": {},
   "outputs": [
    {
     "name": "stdout",
     "output_type": "stream",
     "text": [
      "Cleaned text:  following example creates  ArrayList  a capacity   elements. 4 elements   added   ArrayList   ArrayList  trimmed accordingly.\n"
     ]
    }
   ],
   "source": [
    "import re\n",
    "\n",
    "def remove_words_of_length_between_2_and_4(text):\n",
    "    # Regular expression pattern to match words of length between 2 and 4\n",
    "    pattern = re.compile(r'\\b\\w{2,4}\\b')\n",
    "    \n",
    "    # Remove words of length between 2 and 4 from the text\n",
    "    cleaned_text = pattern.sub('', text)\n",
    "    \n",
    "    return cleaned_text\n",
    "\n",
    "# Sample text\n",
    "sample_text = \"The following example creates an ArrayList with a capacity of 50 elements. 4 elements are then added to the ArrayList and the ArrayList is trimmed accordingly.\"\n",
    "\n",
    "# Remove words of length between 2 and 4 from the text\n",
    "cleaned_text = remove_words_of_length_between_2_and_4(sample_text)\n",
    "\n",
    "# Print the cleaned text\n",
    "print(\"Cleaned text:\", cleaned_text)"
   ]
  }
 ],
 "metadata": {
  "kernelspec": {
   "display_name": "Python 3 (ipykernel)",
   "language": "python",
   "name": "python3"
  },
  "language_info": {
   "codemirror_mode": {
    "name": "ipython",
    "version": 3
   },
   "file_extension": ".py",
   "mimetype": "text/x-python",
   "name": "python",
   "nbconvert_exporter": "python",
   "pygments_lexer": "ipython3",
   "version": "3.11.5"
  }
 },
 "nbformat": 4,
 "nbformat_minor": 5
}
